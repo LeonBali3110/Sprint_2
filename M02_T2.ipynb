{
 "cells": [
  {
   "cell_type": "markdown",
   "id": "0cd1fe0c",
   "metadata": {},
   "source": [
    "# Ejercicio 1"
   ]
  },
  {
   "cell_type": "code",
   "execution_count": 2,
   "id": "b93b5856",
   "metadata": {},
   "outputs": [
    {
     "name": "stdout",
     "output_type": "stream",
     "text": [
      "Por favor, introduzca la calificación del alumno: 8\n",
      "El alumno saco un Notable\n"
     ]
    }
   ],
   "source": [
    "cal = float(input(\"Por favor, introduzca la calificación del alumno: \"))\n",
    "if 0 <= cal < 5:\n",
    "  print(\"El alumno Suspendio\")\n",
    "elif 5 <= cal < 7:\n",
    "  print(\"El alumno Aprobo\")\n",
    "elif 7 <= cal < 9:\n",
    "  print(\"El alumno saco un Notable\")\n",
    "elif 9 <= cal <= 10:\n",
    "  print(\"El alumno es Excelente\")\n",
    "else:\n",
    "  print(\"El valor introducido no es valido\")"
   ]
  },
  {
   "cell_type": "markdown",
   "id": "947c7538",
   "metadata": {},
   "source": [
    "# Ejercicio 2"
   ]
  },
  {
   "cell_type": "code",
   "execution_count": 3,
   "id": "296ce280",
   "metadata": {},
   "outputs": [
    {
     "name": "stdout",
     "output_type": "stream",
     "text": [
      "Por favor, ingresa un número entero: 5\n",
      "Por favor, ingresa un número entero: 5\n",
      "Son iguales\n"
     ]
    }
   ],
   "source": [
    "a = input(\"Por favor, ingresa un número entero: \")\n",
    "b = input(\"Por favor, ingresa un número entero: \")\n",
    "if b > a:\n",
    "  print(\"El segundo es mayor al primero\")\n",
    "elif a == b:\n",
    "  print(\"Son iguales\")\n",
    "else:\n",
    "  print(\"El primero es mayor que el segundo\")"
   ]
  },
  {
   "cell_type": "markdown",
   "id": "71ca6f63",
   "metadata": {},
   "source": [
    "# Ejercicio 3"
   ]
  },
  {
   "cell_type": "code",
   "execution_count": 4,
   "id": "c435044e",
   "metadata": {},
   "outputs": [
    {
     "name": "stdout",
     "output_type": "stream",
     "text": [
      "Por favor, ingresa tu nombre: León\n",
      "Por favor, ingresa un número entero: 8\n",
      "León\n",
      "León\n",
      "León\n",
      "León\n",
      "León\n",
      "León\n",
      "León\n",
      "León\n"
     ]
    }
   ],
   "source": [
    "c = input(\"Por favor, ingresa tu nombre: \")\n",
    "d = int(input(\"Por favor, ingresa un número entero: \"))\n",
    "if d == 0:\n",
    "    print (\"Error, número invalido\")\n",
    "else:\n",
    "    for _ in range (d):\n",
    "        print (c)"
   ]
  },
  {
   "cell_type": "markdown",
   "id": "4dbe0743",
   "metadata": {},
   "source": [
    "# Ejercicio 4"
   ]
  },
  {
   "cell_type": "code",
   "execution_count": 5,
   "id": "2d8aabcf",
   "metadata": {},
   "outputs": [],
   "source": [
    "import random"
   ]
  },
  {
   "cell_type": "code",
   "execution_count": 62,
   "id": "5d1ceac4",
   "metadata": {},
   "outputs": [],
   "source": [
    "import numpy as np"
   ]
  },
  {
   "cell_type": "code",
   "execution_count": 63,
   "id": "3e380ffa",
   "metadata": {},
   "outputs": [
    {
     "name": "stdout",
     "output_type": "stream",
     "text": [
      "Ingrese el tamaño de la lista: 4\n"
     ]
    }
   ],
   "source": [
    "tamanio_lista = int(input(\"Ingrese el tamaño de la lista: \"))"
   ]
  },
  {
   "cell_type": "code",
   "execution_count": 86,
   "id": "634fc0c9",
   "metadata": {},
   "outputs": [
    {
     "name": "stdout",
     "output_type": "stream",
     "text": [
      "Ingrese un número: 2\n",
      "Ingrese un número: 6\n",
      "Ingrese un número: 3\n",
      "Ingrese un número: 6\n"
     ]
    }
   ],
   "source": [
    "m = []\n",
    "for _ in range(tamanio_lista):\n",
    "    numero = float(input(\"Ingrese un número: \"))\n",
    "    m.append(numero)"
   ]
  },
  {
   "cell_type": "code",
   "execution_count": 87,
   "id": "33f4a7cd",
   "metadata": {},
   "outputs": [
    {
     "data": {
      "text/plain": [
       "[2.0, 6.0, 3.0, 6.0]"
      ]
     },
     "execution_count": 87,
     "metadata": {},
     "output_type": "execute_result"
    }
   ],
   "source": [
    "m"
   ]
  },
  {
   "cell_type": "code",
   "execution_count": 83,
   "id": "5c2f2bbf",
   "metadata": {},
   "outputs": [],
   "source": [
    "def es_simetrica(lista):\n",
    "    if lista == lista[::-1]:\n",
    "        return True, len(lista)\n",
    "    else:\n",
    "        return False, len(lista)"
   ]
  },
  {
   "cell_type": "code",
   "execution_count": 84,
   "id": "a43ca057",
   "metadata": {},
   "outputs": [],
   "source": [
    "resultado = es_simetrica(m)"
   ]
  },
  {
   "cell_type": "code",
   "execution_count": 85,
   "id": "0938b495",
   "metadata": {},
   "outputs": [
    {
     "name": "stdout",
     "output_type": "stream",
     "text": [
      "La lista es simétrica y tiene 4 elementos.\n"
     ]
    }
   ],
   "source": [
    "if resultado[0]:\n",
    "    print(\"La lista es simétrica y tiene\", resultado[1], \"elementos.\")\n",
    "else:\n",
    "    print(\"La lista no es simétrica y tiene\", resultado[1], \"elementos.\")"
   ]
  },
  {
   "cell_type": "markdown",
   "id": "c9997f83",
   "metadata": {},
   "source": [
    "# Ejercicio 5"
   ]
  },
  {
   "cell_type": "code",
   "execution_count": 7,
   "id": "fcfefa4f",
   "metadata": {},
   "outputs": [],
   "source": [
    "nd = [random.randint(1, 10) for _ in range(10)]"
   ]
  },
  {
   "cell_type": "code",
   "execution_count": 8,
   "id": "000508a7",
   "metadata": {},
   "outputs": [
    {
     "name": "stdout",
     "output_type": "stream",
     "text": [
      "0\n",
      "0\n",
      "0\n",
      "0\n",
      "0\n",
      "1\n",
      "0\n",
      "0\n",
      "1\n",
      "0\n"
     ]
    }
   ],
   "source": [
    "posicion = 0\n",
    "for elemento in nd:\n",
    "    if posicion == elemento:\n",
    "        print (\"1\")\n",
    "    else:\n",
    "        print (\"0\")\n",
    "    posicion += 1\n",
    "    "
   ]
  },
  {
   "cell_type": "code",
   "execution_count": 9,
   "id": "7d3ca948",
   "metadata": {},
   "outputs": [
    {
     "data": {
      "text/plain": [
       "[6, 4, 5, 8, 1, 5, 3, 3, 8, 3]"
      ]
     },
     "execution_count": 9,
     "metadata": {},
     "output_type": "execute_result"
    }
   ],
   "source": [
    "nd"
   ]
  }
 ],
 "metadata": {
  "kernelspec": {
   "display_name": "Python 3 (ipykernel)",
   "language": "python",
   "name": "python3"
  },
  "language_info": {
   "codemirror_mode": {
    "name": "ipython",
    "version": 3
   },
   "file_extension": ".py",
   "mimetype": "text/x-python",
   "name": "python",
   "nbconvert_exporter": "python",
   "pygments_lexer": "ipython3",
   "version": "3.9.13"
  }
 },
 "nbformat": 4,
 "nbformat_minor": 5
}
