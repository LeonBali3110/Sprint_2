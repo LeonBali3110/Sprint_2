{
 "cells": [
  {
   "cell_type": "code",
   "execution_count": 1,
   "id": "143d33d0",
   "metadata": {},
   "outputs": [],
   "source": [
    "import random"
   ]
  },
  {
   "cell_type": "markdown",
   "id": "886d41b8",
   "metadata": {},
   "source": [
    "# Ejercicio 1"
   ]
  },
  {
   "cell_type": "code",
   "execution_count": 44,
   "id": "36930aba",
   "metadata": {},
   "outputs": [],
   "source": [
    "meses_trimestres = [[\"Enero\", \"Febrero\", \"Marzo\"], [\"Abril\", \"Mayo\", \"Junio\"], [\"Julio\", \"Agosto\", \"Septiembre\"], [\"Octubre\", \"Noviembre\", \"Diciembre\"]]"
   ]
  },
  {
   "cell_type": "markdown",
   "id": "85f4a522",
   "metadata": {},
   "source": [
    "# Ejercicio 2"
   ]
  },
  {
   "cell_type": "code",
   "execution_count": 45,
   "id": "f355e77e",
   "metadata": {},
   "outputs": [
    {
     "name": "stdout",
     "output_type": "stream",
     "text": [
      "Febrero\n",
      "['Enero', 'Febrero', 'Marzo']\n",
      "Septiembre, Octubre\n"
     ]
    }
   ],
   "source": [
    "print ((meses_trimestres[0])[1])\n",
    "print (meses_trimestres[0])\n",
    "print (((meses_trimestres[2])[2]) + \", \" + ((meses_trimestres[3])[0]))"
   ]
  },
  {
   "cell_type": "markdown",
   "id": "afa5e610",
   "metadata": {},
   "source": [
    "# Ejercicio 3"
   ]
  },
  {
   "cell_type": "code",
   "execution_count": 4,
   "id": "f7e719af",
   "metadata": {},
   "outputs": [],
   "source": [
    "nd = [random.randint(1, 10) for _ in range(10)]"
   ]
  },
  {
   "cell_type": "code",
   "execution_count": 5,
   "id": "c809ee1d",
   "metadata": {},
   "outputs": [
    {
     "name": "stdout",
     "output_type": "stream",
     "text": [
      "[9, 4, 6, 7, 8, 2, 1, 7, 1, 6]\n"
     ]
    }
   ],
   "source": [
    "print (nd)"
   ]
  },
  {
   "cell_type": "code",
   "execution_count": 12,
   "id": "38c61944",
   "metadata": {},
   "outputs": [
    {
     "name": "stdout",
     "output_type": "stream",
     "text": [
      "La cantidad de veces que aparece el número 3 son 0\n"
     ]
    }
   ],
   "source": [
    "print (\"La cantidad de veces que aparece el número 3 son\",nd.count (3))"
   ]
  },
  {
   "cell_type": "code",
   "execution_count": 14,
   "id": "8616e5ed",
   "metadata": {},
   "outputs": [
    {
     "name": "stdout",
     "output_type": "stream",
     "text": [
      "La cantidad de veces que aparece el número 3 es/son 0 y 4 es/son 1\n"
     ]
    }
   ],
   "source": [
    "print (\"La cantidad de veces que aparece el número 3 es/son\",nd.count (3), \"y 4 es/son\",nd.count (4))"
   ]
  },
  {
   "cell_type": "code",
   "execution_count": 17,
   "id": "0ac777aa",
   "metadata": {},
   "outputs": [
    {
     "name": "stdout",
     "output_type": "stream",
     "text": [
      "El mayor número es 9\n"
     ]
    }
   ],
   "source": [
    "print (\"El mayor número es\",max(nd))"
   ]
  },
  {
   "cell_type": "code",
   "execution_count": 18,
   "id": "49f55f2d",
   "metadata": {},
   "outputs": [],
   "source": [
    "cnd = nd[:]"
   ]
  },
  {
   "cell_type": "code",
   "execution_count": 19,
   "id": "4fb26975",
   "metadata": {},
   "outputs": [],
   "source": [
    "tres = []"
   ]
  },
  {
   "cell_type": "code",
   "execution_count": 20,
   "id": "85ae7aeb",
   "metadata": {},
   "outputs": [],
   "source": [
    "for _ in range(3):\n",
    "    mini = min(cnd)\n",
    "    tres.append(mini)\n",
    "    cnd.remove(mini)"
   ]
  },
  {
   "cell_type": "code",
   "execution_count": 21,
   "id": "80e2902f",
   "metadata": {},
   "outputs": [
    {
     "name": "stdout",
     "output_type": "stream",
     "text": [
      "Los tres números más pequeños son: [1, 1, 2]\n"
     ]
    }
   ],
   "source": [
    "print(\"Los tres números más pequeños son:\", tres)"
   ]
  },
  {
   "cell_type": "code",
   "execution_count": 46,
   "id": "c3864357",
   "metadata": {},
   "outputs": [],
   "source": [
    "num = max(nd) - min(nd)"
   ]
  },
  {
   "cell_type": "code",
   "execution_count": 47,
   "id": "8cbf9885",
   "metadata": {},
   "outputs": [
    {
     "name": "stdout",
     "output_type": "stream",
     "text": [
      "El rango es  8\n"
     ]
    }
   ],
   "source": [
    "print (\"El rango es \",(num))"
   ]
  },
  {
   "cell_type": "code",
   "execution_count": 6,
   "id": "64cb85e7",
   "metadata": {},
   "outputs": [],
   "source": [
    "x = len(nd)"
   ]
  },
  {
   "cell_type": "code",
   "execution_count": 16,
   "id": "be9f19d7",
   "metadata": {},
   "outputs": [
    {
     "name": "stdout",
     "output_type": "stream",
     "text": [
      "La cantidad de elementos en la lista es de 10\n"
     ]
    }
   ],
   "source": [
    "print (\"La cantidad de elementos en la lista es de\",(x))"
   ]
  },
  {
   "cell_type": "markdown",
   "id": "031ff403",
   "metadata": {},
   "source": [
    "# Ejercicio 4"
   ]
  },
  {
   "cell_type": "code",
   "execution_count": 28,
   "id": "5396bd24",
   "metadata": {},
   "outputs": [],
   "source": [
    "compra = { \"Pomes\" : {\"Qty\": 5, \"€\": 0.42}, \"Peres\" : {\"Qty\": 3, \"€\": 0.66} }"
   ]
  },
  {
   "cell_type": "code",
   "execution_count": 30,
   "id": "a0993813",
   "metadata": {},
   "outputs": [
    {
     "name": "stdout",
     "output_type": "stream",
     "text": [
      "{'Pomes': {'Qty': 5, '€': 0.42}, 'Peres': {'Qty': 3, '€': 0.66}}\n"
     ]
    }
   ],
   "source": [
    "print (compra)"
   ]
  },
  {
   "cell_type": "code",
   "execution_count": 33,
   "id": "05b1e870",
   "metadata": {},
   "outputs": [],
   "source": [
    "compra[\"Pinya\"] = {\"Qty\": 5, \"€\": 0.42}"
   ]
  },
  {
   "cell_type": "code",
   "execution_count": 36,
   "id": "40528eaa",
   "metadata": {},
   "outputs": [
    {
     "name": "stdout",
     "output_type": "stream",
     "text": [
      "{'Pomes': {'Qty': 5, '€': 0.42}, 'Peres': {'Qty': 3, '€': 0.66}, 'Pinya': {'Qty': 5, '€': 0.42}}\n"
     ]
    }
   ],
   "source": [
    "print (compra)"
   ]
  },
  {
   "cell_type": "code",
   "execution_count": 40,
   "id": "0f40e63a",
   "metadata": {},
   "outputs": [
    {
     "name": "stdout",
     "output_type": "stream",
     "text": [
      "El precio total de las Peras es: 1.98\n"
     ]
    }
   ],
   "source": [
    "print(\"El precio total de las Peras es:\", compra[\"Peres\"][\"Qty\"]*compra[\"Peres\"][\"€\"])"
   ]
  },
  {
   "cell_type": "code",
   "execution_count": 48,
   "id": "4c8c712c",
   "metadata": {},
   "outputs": [],
   "source": [
    "cantidades = [fruta[\"Qty\"] for fruta in compra.values()]"
   ]
  },
  {
   "cell_type": "code",
   "execution_count": 50,
   "id": "4c107c26",
   "metadata": {},
   "outputs": [
    {
     "name": "stdout",
     "output_type": "stream",
     "text": [
      "Hemos comprado 13 frutas\n"
     ]
    }
   ],
   "source": [
    "print (\"Hemos comprado\",sum(cantidades), \"frutas\")"
   ]
  },
  {
   "cell_type": "code",
   "execution_count": 43,
   "id": "1787fa80",
   "metadata": {},
   "outputs": [
    {
     "name": "stdout",
     "output_type": "stream",
     "text": [
      "La fruta más cara es: Peres\n"
     ]
    }
   ],
   "source": [
    "def precio_unitario(fruta):\n",
    "    return float(fruta[\"€\"])\n",
    "\n",
    "fruta_mas_cara = max(compra, key=lambda fruta: precio_unitario(compra[fruta]))\n",
    "\n",
    "print(\"La fruta más cara es:\", fruta_mas_cara)"
   ]
  },
  {
   "cell_type": "code",
   "execution_count": null,
   "id": "f0b0a688",
   "metadata": {},
   "outputs": [],
   "source": []
  }
 ],
 "metadata": {
  "kernelspec": {
   "display_name": "Python 3 (ipykernel)",
   "language": "python",
   "name": "python3"
  },
  "language_info": {
   "codemirror_mode": {
    "name": "ipython",
    "version": 3
   },
   "file_extension": ".py",
   "mimetype": "text/x-python",
   "name": "python",
   "nbconvert_exporter": "python",
   "pygments_lexer": "ipython3",
   "version": "3.9.13"
  }
 },
 "nbformat": 4,
 "nbformat_minor": 5
}
